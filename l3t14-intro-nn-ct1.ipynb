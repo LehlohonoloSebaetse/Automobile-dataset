{
 "cells": [
  {
   "cell_type": "markdown",
   "id": "07bd2861",
   "metadata": {
    "id": "a8YglsAarO23",
    "papermill": {
     "duration": 0.033065,
     "end_time": "2022-07-27T09:57:39.939127",
     "exception": false,
     "start_time": "2022-07-27T09:57:39.906062",
     "status": "completed"
    },
    "tags": []
   },
   "source": [
    "# The power of neural networks\n",
    "\n",
    "Neurons can be used to model logic gates, the building blocks behind all digital computing. In this compulsory task we talk you through how to do so. We also explain how to represent neural networks in terms of matrix computations."
   ]
  },
  {
   "cell_type": "code",
   "execution_count": 1,
   "id": "3a68ec31",
   "metadata": {
    "execution": {
     "iopub.execute_input": "2022-07-27T09:57:40.011988Z",
     "iopub.status.busy": "2022-07-27T09:57:40.010166Z",
     "iopub.status.idle": "2022-07-27T09:57:40.022506Z",
     "shell.execute_reply": "2022-07-27T09:57:40.023087Z",
     "shell.execute_reply.started": "2022-07-27T09:55:56.401608Z"
    },
    "id": "nyr9_Tu6rO27",
    "papermill": {
     "duration": 0.050047,
     "end_time": "2022-07-27T09:57:40.023413",
     "exception": false,
     "start_time": "2022-07-27T09:57:39.973366",
     "status": "completed"
    },
    "tags": []
   },
   "outputs": [],
   "source": [
    "import numpy as np\n",
    "import matplotlib.pyplot as plt\n",
    "%matplotlib inline"
   ]
  },
  {
   "cell_type": "markdown",
   "id": "6d8cdfdc",
   "metadata": {
    "id": "7-mcTJnprO3I",
    "papermill": {
     "duration": 0.030886,
     "end_time": "2022-07-27T09:57:40.085779",
     "exception": false,
     "start_time": "2022-07-27T09:57:40.054893",
     "status": "completed"
    },
    "tags": []
   },
   "source": [
    "## Neurons as logic gates\n",
    "\n",
    "A neuron works by applying an activation function, usually the sigmoid function, to a combination of inputs, input weights and a bias. "
   ]
  },
  {
   "cell_type": "code",
   "execution_count": 2,
   "id": "55b2ede7",
   "metadata": {
    "execution": {
     "iopub.execute_input": "2022-07-27T09:57:40.151404Z",
     "iopub.status.busy": "2022-07-27T09:57:40.150449Z",
     "iopub.status.idle": "2022-07-27T09:57:40.155039Z",
     "shell.execute_reply": "2022-07-27T09:57:40.155626Z",
     "shell.execute_reply.started": "2022-07-27T09:55:56.418535Z"
    },
    "id": "Ft6TavXAWSS0",
    "papermill": {
     "duration": 0.039069,
     "end_time": "2022-07-27T09:57:40.155789",
     "exception": false,
     "start_time": "2022-07-27T09:57:40.116720",
     "status": "completed"
    },
    "tags": []
   },
   "outputs": [],
   "source": [
    "class Neuron():\n",
    "  \n",
    "  def __init__(self, W, b):\n",
    "    self.W = W\n",
    "    self.b = b\n",
    "    \n",
    "  def activate(self, X):\n",
    "    return sigmoid(W * X + b)"
   ]
  },
  {
   "cell_type": "markdown",
   "id": "5c952e4b",
   "metadata": {
    "id": "H3pcg1o5XVuN",
    "papermill": {
     "duration": 0.031754,
     "end_time": "2022-07-27T09:57:40.220275",
     "exception": false,
     "start_time": "2022-07-27T09:57:40.188521",
     "status": "completed"
    },
    "tags": []
   },
   "source": [
    "\n",
    "\n",
    "\n",
    "\n",
    "\n",
    "\n",
    "\n",
    "\n",
    "\n",
    "Here's a reminder of what the sigmoid function is and what it's output looks like:\n",
    "\n",
    "$$\n",
    "\\sigma = \\frac{1}{1 + e^{-x}}\n",
    "$$\n"
   ]
  },
  {
   "cell_type": "code",
   "execution_count": 3,
   "id": "4b9ef907",
   "metadata": {
    "execution": {
     "iopub.execute_input": "2022-07-27T09:57:40.289078Z",
     "iopub.status.busy": "2022-07-27T09:57:40.288064Z",
     "iopub.status.idle": "2022-07-27T09:57:40.544489Z",
     "shell.execute_reply": "2022-07-27T09:57:40.544985Z",
     "shell.execute_reply.started": "2022-07-27T09:55:56.426729Z"
    },
    "executionInfo": {
     "elapsed": 617,
     "status": "ok",
     "timestamp": 1564935493778,
     "user": {
      "displayName": "Esther van den Berg",
      "photoUrl": "",
      "userId": "04126586416623518388"
     },
     "user_tz": -120
    },
    "id": "7WrC8RUprO3L",
    "outputId": "4abfec7a-65ec-4c5f-b5f7-dee85c7a37ba",
    "papermill": {
     "duration": 0.294054,
     "end_time": "2022-07-27T09:57:40.545151",
     "exception": false,
     "start_time": "2022-07-27T09:57:40.251097",
     "status": "completed"
    },
    "tags": []
   },
   "outputs": [
    {
     "data": {
      "text/plain": [
       "(-10.0, 10.0)"
      ]
     },
     "execution_count": 3,
     "metadata": {},
     "output_type": "execute_result"
    },
    {
     "data": {
      "image/png": "[encoded data removed]",
      "text/plain": [
       "<Figure size 432x288 with 1 Axes>"
      ]
     },
     "metadata": {
      "needs_background": "light"
     },
     "output_type": "display_data"
    }
   ],
   "source": [
    "def sigmoid(x):\n",
    "    return 1.0 / (1.0 + np.exp(-x))\n",
    "  \n",
    "inputs = np.arange(-100,100, step=0.1)\n",
    "plt.plot(inputs, sigmoid(inputs), linewidth=2)\n",
    "plt.grid(True, which='both')\n",
    "plt.axhline(y=0, color='k')\n",
    "plt.axvline(x=0, color='k')\n",
    "plt.xlim([-10, 10])"
   ]
  },
  {
   "cell_type": "markdown",
   "id": "8203f906",
   "metadata": {
    "id": "AqAZ7aCSrO3Z",
    "papermill": {
     "duration": 0.032195,
     "end_time": "2022-07-27T09:57:40.610007",
     "exception": false,
     "start_time": "2022-07-27T09:57:40.577812",
     "status": "completed"
    },
    "tags": []
   },
   "source": [
    "### Logic gates\n",
    "\n",
    "A logic gate takes in two boolean inputs (0 or 1, i.e. True or False) and returns a single boolean output. An OR gate, for example, returns a 1 if either of the inputs is 1 or both are 1, and 0 only if both inputs are 0. \n"
   ]
  },
  {
   "cell_type": "markdown",
   "id": "c319ddbe",
   "metadata": {
    "id": "B5fD9G7mX_vr",
    "papermill": {
     "duration": 0.032258,
     "end_time": "2022-07-27T09:57:40.674793",
     "exception": false,
     "start_time": "2022-07-27T09:57:40.642535",
     "status": "completed"
    },
    "tags": []
   },
   "source": [
    "Can we design a neuron which produces the same outputs as an OR gate? \n",
    "\n",
    "In other words, can we find $w_1$, $w_2$ and $b$, such that $z$ in the following formula\n",
    "\n",
    "$$\n",
    "z = w_1 x_1 + w_2 x_2 + b\n",
    "$$\n",
    "\n",
    "corresponds to the outputs in the following OR gate truth table\n",
    "\n",
    "<table>\n",
    "\n",
    "<tr>\n",
    "<th colspan=\"3\">OR gate truth table</th>\n",
    "</tr>\n",
    "\n",
    "<tr>\n",
    "<th colspan=\"2\">Input</th>\n",
    "<th>Output</th>\n",
    "</tr>\n",
    "\n",
    "<tr>\n",
    "<td>0</td>\n",
    "<td>0</td>\n",
    "<td>0</td>\n",
    "</tr>\n",
    "\n",
    "<tr>\n",
    "<td>0</td>\n",
    "<td>1</td>\n",
    "<td>1</td>\n",
    "</tr>\n",
    "\n",
    "<tr>\n",
    "<td>1</td>\n",
    "<td>0</td>\n",
    "<td>1</td>\n",
    "</tr>\n",
    "\n",
    "<tr>\n",
    "<td>1</td>\n",
    "<td>1</td>\n",
    "<td>1</td>\n",
    "</tr>\n",
    "\n",
    "</table>"
   ]
  },
  {
   "cell_type": "markdown",
   "id": "14ac5cf9",
   "metadata": {
    "id": "jtJTGjH-Y7_9",
    "papermill": {
     "duration": 0.031821,
     "end_time": "2022-07-27T09:57:40.738745",
     "exception": false,
     "start_time": "2022-07-27T09:57:40.706924",
     "status": "completed"
    },
    "tags": []
   },
   "source": [
    "It turns out that we can.\n",
    "To make it easier to understand how, let's tease apart the weights and inputs of our neuron class to allow 2 inputs and 2 weights."
   ]
  },
  {
   "cell_type": "code",
   "execution_count": 4,
   "id": "3814dc2b",
   "metadata": {
    "execution": {
     "iopub.execute_input": "2022-07-27T09:57:40.810914Z",
     "iopub.status.busy": "2022-07-27T09:57:40.810153Z",
     "iopub.status.idle": "2022-07-27T09:57:40.813466Z",
     "shell.execute_reply": "2022-07-27T09:57:40.812925Z",
     "shell.execute_reply.started": "2022-07-27T09:55:56.628672Z"
    },
    "id": "6cCOeexuXejJ",
    "papermill": {
     "duration": 0.042767,
     "end_time": "2022-07-27T09:57:40.813622",
     "exception": false,
     "start_time": "2022-07-27T09:57:40.770855",
     "status": "completed"
    },
    "tags": []
   },
   "outputs": [],
   "source": [
    "class Neuron():\n",
    "  \n",
    "  def __init__(self, w1, w2, b):\n",
    "    self.w1 = w1\n",
    "    self.w2 = w2\n",
    "    self.b = b\n",
    "    \n",
    "  def activate(self, x1, x2):\n",
    "    return sigmoid(self.w1 * x1 + self.w2 * x2 + self.b)\n",
    " \n",
    "logic_inputs = [(0, 0), (0, 1), (1, 0), (1, 1)]"
   ]
  },
  {
   "cell_type": "markdown",
   "id": "c4ab3bc0",
   "metadata": {
    "id": "eF1cFmmWXts2",
    "papermill": {
     "duration": 0.031873,
     "end_time": "2022-07-27T09:57:40.879177",
     "exception": false,
     "start_time": "2022-07-27T09:57:40.847304",
     "status": "completed"
    },
    "tags": []
   },
   "source": [
    "#### Bias\n",
    "\n",
    "The bias determines the value of $z$ if both inputs are 0.\n",
    "If both inputs are 0 we want the output to also be 0. So we must solve:\n",
    "\n",
    "$$\n",
    "0 =\\sigma(0 + 0 + b)\n",
    "$$\n",
    "\n",
    "\n",
    "The sigmoid function outputs values close to 0 if the input is about -7.5 or less, so $b$ must be at least that small. Let's specify $b$ to be -10."
   ]
  },
  {
   "cell_type": "code",
   "execution_count": 5,
   "id": "339e4d8a",
   "metadata": {
    "execution": {
     "iopub.execute_input": "2022-07-27T09:57:40.949678Z",
     "iopub.status.busy": "2022-07-27T09:57:40.948962Z",
     "iopub.status.idle": "2022-07-27T09:57:40.952176Z",
     "shell.execute_reply": "2022-07-27T09:57:40.951584Z",
     "shell.execute_reply.started": "2022-07-27T09:55:56.638002Z"
    },
    "id": "rxD_KxHgZo3-",
    "papermill": {
     "duration": 0.040776,
     "end_time": "2022-07-27T09:57:40.952364",
     "exception": false,
     "start_time": "2022-07-27T09:57:40.911588",
     "status": "completed"
    },
    "tags": []
   },
   "outputs": [],
   "source": [
    "b = -10"
   ]
  },
  {
   "cell_type": "markdown",
   "id": "803b7024",
   "metadata": {
    "id": "SyWWypZSZsYt",
    "papermill": {
     "duration": 0.032831,
     "end_time": "2022-07-27T09:57:41.017738",
     "exception": false,
     "start_time": "2022-07-27T09:57:40.984907",
     "status": "completed"
    },
    "tags": []
   },
   "source": [
    "#### Weights\n",
    "\n",
    "The weights determine what happens when $x_1$ and/or $x_2$ are 1.\n",
    "In all the cases the output should be 1.\n",
    "\n",
    "The sigmoid function outputs about 1 for values larger than about 7.5, let's say 10. For either $w_1 + 0 + -10$ or $0 + w_1 + -10$ to be 10 or more, the weights must be at least 20. \n",
    "\n",
    "This also gives the correct output if both inputs are 1. "
   ]
  },
  {
   "cell_type": "code",
   "execution_count": 6,
   "id": "a2e84e49",
   "metadata": {
    "execution": {
     "iopub.execute_input": "2022-07-27T09:57:41.087870Z",
     "iopub.status.busy": "2022-07-27T09:57:41.087162Z",
     "iopub.status.idle": "2022-07-27T09:57:41.088937Z",
     "shell.execute_reply": "2022-07-27T09:57:41.089554Z",
     "shell.execute_reply.started": "2022-07-27T09:55:56.649129Z"
    },
    "id": "YX-JkugzbAek",
    "papermill": {
     "duration": 0.039587,
     "end_time": "2022-07-27T09:57:41.089733",
     "exception": false,
     "start_time": "2022-07-27T09:57:41.050146",
     "status": "completed"
    },
    "tags": []
   },
   "outputs": [],
   "source": [
    "w1, w2 = 20, 20"
   ]
  },
  {
   "cell_type": "markdown",
   "id": "e454009e",
   "metadata": {
    "id": "o1nC-I1WbEhk",
    "papermill": {
     "duration": 0.032253,
     "end_time": "2022-07-27T09:57:41.154520",
     "exception": false,
     "start_time": "2022-07-27T09:57:41.122267",
     "status": "completed"
    },
    "tags": []
   },
   "source": [
    "Let's try it out."
   ]
  },
  {
   "cell_type": "code",
   "execution_count": 7,
   "id": "c104f038",
   "metadata": {
    "execution": {
     "iopub.execute_input": "2022-07-27T09:57:41.223449Z",
     "iopub.status.busy": "2022-07-27T09:57:41.222740Z",
     "iopub.status.idle": "2022-07-27T09:57:41.230285Z",
     "shell.execute_reply": "2022-07-27T09:57:41.230783Z",
     "shell.execute_reply.started": "2022-07-27T09:55:56.660298Z"
    },
    "executionInfo": {
     "elapsed": 487,
     "status": "ok",
     "timestamp": 1564936153442,
     "user": {
      "displayName": "Esther van den Berg",
      "photoUrl": "",
      "userId": "04126586416623518388"
     },
     "user_tz": -120
    },
    "id": "RWcOD1CFbFZB",
    "outputId": "bc6c8d8c-6bee-4bad-d31b-52191bce1082",
    "papermill": {
     "duration": 0.043777,
     "end_time": "2022-07-27T09:57:41.230960",
     "exception": false,
     "start_time": "2022-07-27T09:57:41.187183",
     "status": "completed"
    },
    "tags": []
   },
   "outputs": [
    {
     "name": "stdout",
     "output_type": "stream",
     "text": [
      "0, 0: 0.0\n",
      "0, 1: 1.0\n",
      "1, 0: 1.0\n",
      "1, 1: 1.0\n"
     ]
    }
   ],
   "source": [
    "def make_truth_table(gate):\n",
    "  for x1, x2 in logic_inputs:\n",
    "    output = gate.activate(x1, x2)\n",
    "    print(\"{}, {}: {}\".format(x1, x2, np.round(output)))\n",
    "\n",
    "or_gate = Neuron(w1, w2, b)\n",
    "make_truth_table(or_gate)\n"
   ]
  },
  {
   "cell_type": "markdown",
   "id": "5bd70105",
   "metadata": {
    "id": "ESl-j78arO3j",
    "papermill": {
     "duration": 0.032594,
     "end_time": "2022-07-27T09:57:41.296674",
     "exception": false,
     "start_time": "2022-07-27T09:57:41.264080",
     "status": "completed"
    },
    "tags": []
   },
   "source": [
    "### Exercise\n",
    "Try to figure out what values for the neurons would model an AND gate."
   ]
  },
  {
   "cell_type": "markdown",
   "id": "89d4053e",
   "metadata": {
    "id": "yKxZSnAQrO3i",
    "papermill": {
     "duration": 0.03239,
     "end_time": "2022-07-27T09:57:41.362176",
     "exception": false,
     "start_time": "2022-07-27T09:57:41.329786",
     "status": "completed"
    },
    "tags": []
   },
   "source": [
    "<table>\n",
    "\n",
    "<tr>\n",
    "<th colspan=\"3\">AND gate truth table</th>\n",
    "</tr>\n",
    "\n",
    "<tr>\n",
    "<th colspan=\"2\">Input</th>\n",
    "<th>Output</th>\n",
    "</tr>\n",
    "\n",
    "<tr>\n",
    "<td>0</td>\n",
    "<td>0</td>\n",
    "<td>0</td>\n",
    "</tr>\n",
    "\n",
    "<tr>\n",
    "<td>0</td>\n",
    "<td>1</td>\n",
    "<td>0</td>\n",
    "</tr>\n",
    "\n",
    "<tr>\n",
    "<td>1</td>\n",
    "<td>0</td>\n",
    "<td>0</td>\n",
    "</tr>\n",
    "\n",
    "<tr>\n",
    "<td>1</td>\n",
    "<td>1</td>\n",
    "<td>1</td>\n",
    "</tr>\n",
    "\n",
    "</table>"
   ]
  },
  {
   "cell_type": "code",
   "execution_count": 8,
   "id": "4dca44b3",
   "metadata": {
    "execution": {
     "iopub.execute_input": "2022-07-27T09:57:41.437974Z",
     "iopub.status.busy": "2022-07-27T09:57:41.437118Z",
     "iopub.status.idle": "2022-07-27T09:57:41.440383Z",
     "shell.execute_reply": "2022-07-27T09:57:41.440980Z",
     "shell.execute_reply.started": "2022-07-27T09:55:56.673272Z"
    },
    "executionInfo": {
     "elapsed": 494,
     "status": "ok",
     "timestamp": 1564936156837,
     "user": {
      "displayName": "Esther van den Berg",
      "photoUrl": "",
      "userId": "04126586416623518388"
     },
     "user_tz": -120
    },
    "id": "vgyObUnPrO3l",
    "outputId": "6258ae72-3784-47cc-f350-66e84aafa13e",
    "papermill": {
     "duration": 0.044635,
     "end_time": "2022-07-27T09:57:41.441152",
     "exception": false,
     "start_time": "2022-07-27T09:57:41.396517",
     "status": "completed"
    },
    "tags": []
   },
   "outputs": [
    {
     "name": "stdout",
     "output_type": "stream",
     "text": [
      "0, 0: 0.0\n",
      "0, 1: 0.0\n",
      "1, 0: 0.0\n",
      "1, 1: 1.0\n"
     ]
    }
   ],
   "source": [
    "# Fix this AND gate so its outputs are correct.\n",
    "\n",
    "and_gate = Neuron(w1 = 10, w2 = 10, b = -15)\n",
    "\n",
    "make_truth_table(and_gate)"
   ]
  },
  {
   "cell_type": "markdown",
   "id": "2628cb51",
   "metadata": {
    "id": "6TSxHQhOrO3o",
    "papermill": {
     "duration": 0.034982,
     "end_time": "2022-07-27T09:57:41.509837",
     "exception": false,
     "start_time": "2022-07-27T09:57:41.474855",
     "status": "completed"
    },
    "tags": []
   },
   "source": [
    "### Exercise\n",
    "Do the same for the NOR gate and the NAND gate."
   ]
  },
  {
   "cell_type": "markdown",
   "id": "eeed1bf2",
   "metadata": {
    "id": "j25DAnwvrO3p",
    "papermill": {
     "duration": 0.033055,
     "end_time": "2022-07-27T09:57:41.576720",
     "exception": false,
     "start_time": "2022-07-27T09:57:41.543665",
     "status": "completed"
    },
    "tags": []
   },
   "source": [
    "<table>\n",
    "\n",
    "<tr>\n",
    "<th colspan=\"3\">NOR gate truth table</th>\n",
    "</tr>\n",
    "\n",
    "<tr>\n",
    "<th colspan=\"2\">Input</th>\n",
    "<th>Output</th>\n",
    "</tr>\n",
    "\n",
    "<tr>\n",
    "<td>0</td>\n",
    "<td>0</td>\n",
    "<td>1</td>\n",
    "</tr>\n",
    "\n",
    "<tr>\n",
    "<td>0</td>\n",
    "<td>1</td>\n",
    "<td>0</td>\n",
    "</tr>\n",
    "\n",
    "<tr>\n",
    "<td>1</td>\n",
    "<td>0</td>\n",
    "<td>0</td>\n",
    "</tr>\n",
    "\n",
    "<tr>\n",
    "<td>1</td>\n",
    "<td>1</td>\n",
    "<td>0</td>\n",
    "</tr>\n",
    "\n",
    "</table>"
   ]
  },
  {
   "cell_type": "code",
   "execution_count": 9,
   "id": "44b567f9",
   "metadata": {
    "execution": {
     "iopub.execute_input": "2022-07-27T09:57:41.646949Z",
     "iopub.status.busy": "2022-07-27T09:57:41.646310Z",
     "iopub.status.idle": "2022-07-27T09:57:41.652624Z",
     "shell.execute_reply": "2022-07-27T09:57:41.653124Z",
     "shell.execute_reply.started": "2022-07-27T09:55:56.683524Z"
    },
    "id": "z4mjHXntrO3p",
    "papermill": {
     "duration": 0.043333,
     "end_time": "2022-07-27T09:57:41.653313",
     "exception": false,
     "start_time": "2022-07-27T09:57:41.609980",
     "status": "completed"
    },
    "tags": []
   },
   "outputs": [
    {
     "name": "stdout",
     "output_type": "stream",
     "text": [
      "0, 0: 1.0\n",
      "0, 1: 0.0\n",
      "1, 0: 0.0\n",
      "1, 1: 0.0\n"
     ]
    }
   ],
   "source": [
    "nor_gate = Neuron(w1 = -20, w2 = -20, b = 10)\n",
    "\n",
    "make_truth_table(nor_gate)"
   ]
  },
  {
   "cell_type": "markdown",
   "id": "aff452ce",
   "metadata": {
    "id": "1IZ11iB5rO3r",
    "papermill": {
     "duration": 0.033621,
     "end_time": "2022-07-27T09:57:41.721275",
     "exception": false,
     "start_time": "2022-07-27T09:57:41.687654",
     "status": "completed"
    },
    "tags": []
   },
   "source": [
    "<table>\n",
    "\n",
    "<tr>\n",
    "<th colspan=\"3\">NAND gate truth table</th>\n",
    "</tr>\n",
    "\n",
    "<tr>\n",
    "<th colspan=\"2\">Input</th>\n",
    "<th>Output</th>\n",
    "</tr>\n",
    "\n",
    "<tr>\n",
    "<td>0</td>\n",
    "<td>0</td>\n",
    "<td>1</td>\n",
    "</tr>\n",
    "\n",
    "<tr>\n",
    "<td>0</td>\n",
    "<td>1</td>\n",
    "<td>1</td>\n",
    "</tr>\n",
    "\n",
    "<tr>\n",
    "<td>1</td>\n",
    "<td>0</td>\n",
    "<td>1</td>\n",
    "</tr>\n",
    "\n",
    "<tr>\n",
    "<td>1</td>\n",
    "<td>1</td>\n",
    "<td>0</td>\n",
    "</tr>\n",
    "\n",
    "</table>"
   ]
  },
  {
   "cell_type": "code",
   "execution_count": 10,
   "id": "83c5dbba",
   "metadata": {
    "execution": {
     "iopub.execute_input": "2022-07-27T09:57:41.794729Z",
     "iopub.status.busy": "2022-07-27T09:57:41.794010Z",
     "iopub.status.idle": "2022-07-27T09:57:41.800131Z",
     "shell.execute_reply": "2022-07-27T09:57:41.800673Z",
     "shell.execute_reply.started": "2022-07-27T09:55:56.691567Z"
    },
    "id": "iAeI8G44rO3s",
    "papermill": {
     "duration": 0.044089,
     "end_time": "2022-07-27T09:57:41.800860",
     "exception": false,
     "start_time": "2022-07-27T09:57:41.756771",
     "status": "completed"
    },
    "tags": []
   },
   "outputs": [
    {
     "name": "stdout",
     "output_type": "stream",
     "text": [
      "0, 0: 1.0\n",
      "0, 1: 1.0\n",
      "1, 0: 1.0\n",
      "1, 1: 0.0\n"
     ]
    }
   ],
   "source": [
    "nand_gate = Neuron(w1 = -10, w2 = -10, b = 20)\n",
    "\n",
    "make_truth_table(nand_gate)"
   ]
  },
  {
   "cell_type": "markdown",
   "id": "70570086",
   "metadata": {
    "id": "XwaXX4DmrO3w",
    "papermill": {
     "duration": 0.034582,
     "end_time": "2022-07-27T09:57:41.871561",
     "exception": false,
     "start_time": "2022-07-27T09:57:41.836979",
     "status": "completed"
    },
    "tags": []
   },
   "source": [
    "### The XOR Gate\n",
    "\n",
    "Of all logic gates the most important in computer science is the exclusive or or XOR gate. \n",
    "\n",
    "It turns out there is no configuration for our neuron that will replicate the XOR gate truth table. \n",
    "\n",
    "However, the XOR can be modeled by combining three of the gates we just made.  In other words,\n",
    "by combining several neurons into a network.\n",
    "\n",
    "See if you can find the combination of gates that produces this table:\n",
    "\n",
    "<table>\n",
    "\n",
    "<tr>\n",
    "<th colspan=\"3\">XOR gate truth table</th>\n",
    "</tr>\n",
    "\n",
    "<tr>\n",
    "<th colspan=\"2\">Input</th>\n",
    "<th>Output</th>\n",
    "</tr>\n",
    "\n",
    "<tr>\n",
    "<td>0</td>\n",
    "<td>0</td>\n",
    "<td>0</td>\n",
    "</tr>\n",
    "\n",
    "<tr>\n",
    "<td>0</td>\n",
    "<td>1</td>\n",
    "<td>1</td>\n",
    "</tr>\n",
    "\n",
    "<tr>\n",
    "<td>1</td>\n",
    "<td>0</td>\n",
    "<td>1</td>\n",
    "</tr>\n",
    "\n",
    "<tr>\n",
    "<td>1</td>\n",
    "<td>1</td>\n",
    "<td>0</td>\n",
    "</tr>\n",
    "\n",
    "</table>\n",
    "\n"
   ]
  },
  {
   "cell_type": "markdown",
   "id": "d24f8369",
   "metadata": {
    "id": "9q25E1v_ewLs",
    "papermill": {
     "duration": 0.034032,
     "end_time": "2022-07-27T09:57:41.941470",
     "exception": false,
     "start_time": "2022-07-27T09:57:41.907438",
     "status": "completed"
    },
    "tags": []
   },
   "source": [
    "\n",
    "### Exercise\n",
    "\n",
    "Try to combine the gates we discussed. It's already if you do so by trial and error. To help you out, the code below specifies that our combination\n",
    "first passes the inputs to two separate hidden gates or hidden neurons, and then passes the outcome of that to a single output neuron"
   ]
  },
  {
   "cell_type": "markdown",
   "id": "0b51d751",
   "metadata": {
    "papermill": {
     "duration": 0.034418,
     "end_time": "2022-07-27T09:57:42.011064",
     "exception": false,
     "start_time": "2022-07-27T09:57:41.976646",
     "status": "completed"
    },
    "tags": []
   },
   "source": [
    "This is were I have a problem I am confussed."
   ]
  },
  {
   "cell_type": "code",
   "execution_count": 11,
   "id": "576d8c33",
   "metadata": {
    "execution": {
     "iopub.execute_input": "2022-07-27T09:57:42.083628Z",
     "iopub.status.busy": "2022-07-27T09:57:42.082917Z",
     "iopub.status.idle": "2022-07-27T09:57:42.090860Z",
     "shell.execute_reply": "2022-07-27T09:57:42.091517Z",
     "shell.execute_reply.started": "2022-07-27T09:55:56.703627Z"
    },
    "executionInfo": {
     "elapsed": 561,
     "status": "ok",
     "timestamp": 1564938124434,
     "user": {
      "displayName": "Esther van den Berg",
      "photoUrl": "",
      "userId": "04126586416623518388"
     },
     "user_tz": -120
    },
    "id": "Oe8f8HV1rO3x",
    "outputId": "d1808adc-fc68-4358-a401-8bc8155c4af2",
    "papermill": {
     "duration": 0.046008,
     "end_time": "2022-07-27T09:57:42.091691",
     "exception": false,
     "start_time": "2022-07-27T09:57:42.045683",
     "status": "completed"
    },
    "tags": []
   },
   "outputs": [
    {
     "name": "stdout",
     "output_type": "stream",
     "text": [
      "0, 0: 0.0\n",
      "0, 1: 1.0\n",
      "1, 0: 1.0\n",
      "1, 1: 0.0\n"
     ]
    }
   ],
   "source": [
    "# Uncomment the xor_gate line and find out which neurons besides the or_gate neuron the \n",
    "# network should have in its hidden and output layer to produce the right values.\n",
    "\n",
    "class Network():\n",
    "  \n",
    "  def __init__(self, gate1, gate2, out_gate):\n",
    "        self.hidden_neuron1 = gate1\n",
    "        self.hidden_neuron2 = gate2\n",
    "        self.out_neuron = out_gate\n",
    "   \n",
    "  def activate(self, x1, x2):\n",
    "        z1 = self.hidden_neuron1.activate(x1, x2)\n",
    "        z2 = self.hidden_neuron2.activate(x1, x2)\n",
    "        return self.out_neuron.activate(z1, z2)\n",
    "  \n",
    "xor_gate = Network(nand_gate, or_gate , and_gate)\n",
    "make_truth_table(xor_gate)"
   ]
  },
  {
   "cell_type": "markdown",
   "id": "e0febbf1",
   "metadata": {
    "id": "Hg2jOJBArO30",
    "papermill": {
     "duration": 0.034361,
     "end_time": "2022-07-27T09:57:42.160748",
     "exception": false,
     "start_time": "2022-07-27T09:57:42.126387",
     "status": "completed"
    },
    "tags": []
   },
   "source": [
    "## Matrix Computations\n",
    "\n",
    "The code for a single neuron is fairly simple. When we combine neurons, however, the input is passed through multiple neurons in a hidden layer, which can be very large. The output of the hidden layer is itself either passed to more layers or an output layer of variable size. This can involve absolutely huge computations which are hard to understand and code efficiently.\n",
    "\n",
    "To understand these computations and work with neural network libraries, you must refresh your linear algebra and be able to think of networks in terms of matrix calculations. We'll warm you up with this gentle exercise.\n",
    "\n"
   ]
  },
  {
   "cell_type": "markdown",
   "id": "e7a8293a",
   "metadata": {
    "id": "6SELDEWQkcrq",
    "papermill": {
     "duration": 0.034326,
     "end_time": "2022-07-27T09:57:42.229756",
     "exception": false,
     "start_time": "2022-07-27T09:57:42.195430",
     "status": "completed"
    },
    "tags": []
   },
   "source": [
    "### Input\n",
    "\n",
    "Instead of writing the input as seperate variables, we store each input as a vector and all inputs as a matrix."
   ]
  },
  {
   "cell_type": "code",
   "execution_count": 12,
   "id": "27000e87",
   "metadata": {
    "execution": {
     "iopub.execute_input": "2022-07-27T09:57:42.305352Z",
     "iopub.status.busy": "2022-07-27T09:57:42.304688Z",
     "iopub.status.idle": "2022-07-27T09:57:42.308687Z",
     "shell.execute_reply": "2022-07-27T09:57:42.308181Z",
     "shell.execute_reply.started": "2022-07-27T09:55:56.716952Z"
    },
    "executionInfo": {
     "elapsed": 552,
     "status": "ok",
     "timestamp": 1564940906610,
     "user": {
      "displayName": "Esther van den Berg",
      "photoUrl": "",
      "userId": "04126586416623518388"
     },
     "user_tz": -120
    },
    "id": "h35ap3pRrO36",
    "outputId": "6edb57e9-dbde-4e97-f255-6706e2eb5ef8",
    "papermill": {
     "duration": 0.044708,
     "end_time": "2022-07-27T09:57:42.308844",
     "exception": false,
     "start_time": "2022-07-27T09:57:42.264136",
     "status": "completed"
    },
    "tags": []
   },
   "outputs": [
    {
     "data": {
      "text/plain": [
       "array([[0, 0],\n",
       "       [0, 1],\n",
       "       [1, 0],\n",
       "       [1, 1]])"
      ]
     },
     "execution_count": 12,
     "metadata": {},
     "output_type": "execute_result"
    }
   ],
   "source": [
    "logic_inputs = np.array(logic_inputs)\n",
    "logic_inputs"
   ]
  },
  {
   "cell_type": "markdown",
   "id": "881feef2",
   "metadata": {
    "id": "FpCii3ddk_nA",
    "papermill": {
     "duration": 0.034713,
     "end_time": "2022-07-27T09:57:42.378376",
     "exception": false,
     "start_time": "2022-07-27T09:57:42.343663",
     "status": "completed"
    },
    "tags": []
   },
   "source": [
    "### Weights\n",
    "\n",
    "We do the same with weights.\n",
    "There are as many weight matrices as there are layers. \n",
    "Each cell $W_{i,j}$ in the matrix, where $i$ is the ith row and $j$ is the jth column, gives the weight from neuron $i$ in the previous (left) layer to neuron $j$ in the next (right) layer. In W, \n",
    "  \n",
    "\n"
   ]
  },
  {
   "cell_type": "code",
   "execution_count": 13,
   "id": "86b3c8eb",
   "metadata": {
    "execution": {
     "iopub.execute_input": "2022-07-27T09:57:42.455191Z",
     "iopub.status.busy": "2022-07-27T09:57:42.453966Z",
     "iopub.status.idle": "2022-07-27T09:57:42.458129Z",
     "shell.execute_reply": "2022-07-27T09:57:42.458773Z",
     "shell.execute_reply.started": "2022-07-27T09:55:56.826049Z"
    },
    "executionInfo": {
     "elapsed": 521,
     "status": "ok",
     "timestamp": 1564940575129,
     "user": {
      "displayName": "Esther van den Berg",
      "photoUrl": "",
      "userId": "04126586416623518388"
     },
     "user_tz": -120
    },
    "id": "WIV6j3talC9y",
    "outputId": "3f9543ae-23e2-49a7-fd3f-7956dae0bbe0",
    "papermill": {
     "duration": 0.045977,
     "end_time": "2022-07-27T09:57:42.458960",
     "exception": false,
     "start_time": "2022-07-27T09:57:42.412983",
     "status": "completed"
    },
    "tags": []
   },
   "outputs": [],
   "source": [
    "# weights of the hidden layer of an OR gate \n",
    "W = np.array([[20],\n",
    "              [20]])\n"
   ]
  },
  {
   "cell_type": "markdown",
   "id": "716c79dd",
   "metadata": {
    "id": "C3AivjeisnPe",
    "papermill": {
     "duration": 0.034717,
     "end_time": "2022-07-27T09:57:42.528870",
     "exception": false,
     "start_time": "2022-07-27T09:57:42.494153",
     "status": "completed"
    },
    "tags": []
   },
   "source": [
    "Instead of focusing on individual neurons, we focus on layers. \n",
    "We specify what size the input vectors ($m$) for the layer has, how many neurons ($n$) the layer has, and the bias for the layer. \n",
    "Instead of multipying each input with each neuron, we use np.dot to multiply the matrixes."
   ]
  },
  {
   "cell_type": "code",
   "execution_count": 14,
   "id": "a1d086bc",
   "metadata": {
    "execution": {
     "iopub.execute_input": "2022-07-27T09:57:42.610052Z",
     "iopub.status.busy": "2022-07-27T09:57:42.609352Z",
     "iopub.status.idle": "2022-07-27T09:57:42.612049Z",
     "shell.execute_reply": "2022-07-27T09:57:42.612548Z",
     "shell.execute_reply.started": "2022-07-27T09:55:56.836033Z"
    },
    "executionInfo": {
     "elapsed": 679,
     "status": "ok",
     "timestamp": 1564942145567,
     "user": {
      "displayName": "Esther van den Berg",
      "photoUrl": "",
      "userId": "04126586416623518388"
     },
     "user_tz": -120
    },
    "id": "xwmV63_msY2X",
    "outputId": "9f277204-04e3-4830-e57c-f58cc3217423",
    "papermill": {
     "duration": 0.048151,
     "end_time": "2022-07-27T09:57:42.612734",
     "exception": false,
     "start_time": "2022-07-27T09:57:42.564583",
     "status": "completed"
    },
    "tags": []
   },
   "outputs": [
    {
     "data": {
      "text/plain": [
       "array([[0.],\n",
       "       [1.],\n",
       "       [1.],\n",
       "       [1.]])"
      ]
     },
     "execution_count": 14,
     "metadata": {},
     "output_type": "execute_result"
    }
   ],
   "source": [
    "class Layer():\n",
    "  \n",
    "  def __init__(self, W, b):\n",
    "    self.m = W.shape[0]\n",
    "    self.n = W.shape[1]\n",
    "    self.W = W\n",
    "    self.b = b\n",
    "    \n",
    "  def activate(self, X):\n",
    "    z = np.dot(X, self.W) + (self.b)\n",
    "    return sigmoid(z)\n",
    "\n",
    "OR_layer = Layer(W, -10)\n",
    "or_output = OR_layer.activate(logic_inputs)\n",
    "np.round(or_output)"
   ]
  },
  {
   "cell_type": "markdown",
   "id": "d3e34942",
   "metadata": {
    "id": "LOV8eQhKwgCB",
    "papermill": {
     "duration": 0.035267,
     "end_time": "2022-07-27T09:57:42.683400",
     "exception": false,
     "start_time": "2022-07-27T09:57:42.648133",
     "status": "completed"
    },
    "tags": []
   },
   "source": [
    "### Exercise\n",
    "\n",
    "Finish this version of an XOR gate that more closely resembles a neural network by determining the shapes the weights and biases need to have. "
   ]
  },
  {
   "cell_type": "code",
   "execution_count": 15,
   "id": "5abb478b",
   "metadata": {
    "execution": {
     "iopub.execute_input": "2022-07-27T09:57:42.761990Z",
     "iopub.status.busy": "2022-07-27T09:57:42.761274Z",
     "iopub.status.idle": "2022-07-27T09:57:42.762925Z",
     "shell.execute_reply": "2022-07-27T09:57:42.763513Z",
     "shell.execute_reply.started": "2022-07-27T09:55:56.847391Z"
    },
    "id": "SfuZR6OCwo2l",
    "papermill": {
     "duration": 0.044875,
     "end_time": "2022-07-27T09:57:42.763713",
     "exception": false,
     "start_time": "2022-07-27T09:57:42.718838",
     "status": "completed"
    },
    "tags": []
   },
   "outputs": [],
   "source": [
    "W1 = np.array([[-5,20],[-5,20]])\n",
    "b1 = np.array([[10, -10]])\n",
    "\n",
    "W2 = np.array([[10],[10]])\n",
    "b2 = np.array([-15])\n",
    "\n",
    "hidden_layer = Layer(W1, b1)\n",
    "output_layer = Layer(W2, b2)\n"
   ]
  },
  {
   "cell_type": "code",
   "execution_count": 16,
   "id": "b8b2f8e3",
   "metadata": {
    "execution": {
     "iopub.execute_input": "2022-07-27T09:57:42.990073Z",
     "iopub.status.busy": "2022-07-27T09:57:42.989180Z",
     "iopub.status.idle": "2022-07-27T09:57:42.993301Z",
     "shell.execute_reply": "2022-07-27T09:57:42.992643Z",
     "shell.execute_reply.started": "2022-07-27T09:55:56.858489Z"
    },
    "executionInfo": {
     "elapsed": 546,
     "status": "ok",
     "timestamp": 1564942171867,
     "user": {
      "displayName": "Esther van den Berg",
      "photoUrl": "",
      "userId": "04126586416623518388"
     },
     "user_tz": -120
    },
    "id": "rAs9CrJ7xG9_",
    "outputId": "65f2e39b-78f9-4cc7-d04c-a8919dd76206",
    "papermill": {
     "duration": 0.19384,
     "end_time": "2022-07-27T09:57:42.993459",
     "exception": false,
     "start_time": "2022-07-27T09:57:42.799619",
     "status": "completed"
    },
    "tags": []
   },
   "outputs": [
    {
     "data": {
      "text/plain": [
       "array([[0.],\n",
       "       [1.],\n",
       "       [1.],\n",
       "       [0.]])"
      ]
     },
     "execution_count": 16,
     "metadata": {},
     "output_type": "execute_result"
    }
   ],
   "source": [
    "class Network():\n",
    "  \n",
    "  def __init__(self, hidden, output):\n",
    "    self.hidden = hidden\n",
    "    self.output = output\n",
    "   \n",
    "  def activate(self, X):\n",
    "    z = self.hidden.activate(X)\n",
    "    return self.output.activate(z)\n",
    "\n",
    "xor_gate = Network(hidden_layer, output_layer)\n",
    "\n",
    "xor_output = xor_gate.activate(logic_inputs)\n",
    "np.round(xor_output)"
   ]
  },
  {
   "cell_type": "markdown",
   "id": "0496132c",
   "metadata": {
    "papermill": {
     "duration": 0.035489,
     "end_time": "2022-07-27T09:57:43.064963",
     "exception": false,
     "start_time": "2022-07-27T09:57:43.029474",
     "status": "completed"
    },
    "tags": []
   },
   "source": [
    "# References\n",
    "\n",
    "[1] https://medium.com/analytics-vidhya/understanding-basics-of-deep-learning-by-solving-xor-problem-cb3ff6a18a06\n",
    "\n",
    "[2] https://medium.com/@stanleydukor/neural-representation-of-and-or-not-xor-and-xnor-logic-gates-perceptron-algorithm-b0275375fea1\n",
    "\n",
    "[3] https://towardsdatascience.com/implementing-the-xor-gate-using-backpropagation-in-neural-networks-c1f255b4f20d\n",
    "\n",
    "[4] https://towardsdatascience.com/tflearn-soving-xor-with-a-2x2x1-feed-forward-neural-network-6c07d88689ed"
   ]
  }
 ],
 "metadata": {
  "kernelspec": {
   "display_name": "Python 3",
   "language": "python",
   "name": "python3"
  },
  "language_info": {
   "codemirror_mode": {
    "name": "ipython",
    "version": 3
   },
   "file_extension": ".py",
   "mimetype": "text/x-python",
   "name": "python",
   "nbconvert_exporter": "python",
   "pygments_lexer": "ipython3",
   "version": "3.7.12"
  },
  "papermill": {
   "default_parameters": {},
   "duration": 14.002478,
   "end_time": "2022-07-27T09:57:43.712758",
   "environment_variables": {},
   "exception": null,
   "input_path": "__notebook__.ipynb",
   "output_path": "__notebook__.ipynb",
   "parameters": {},
   "start_time": "2022-07-27T09:57:29.710280",
   "version": "2.3.3"
  }
 },
 "nbformat": 4,
 "nbformat_minor": 5
}
